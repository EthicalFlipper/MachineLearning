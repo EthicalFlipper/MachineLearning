{
  "nbformat": 4,
  "nbformat_minor": 0,
  "metadata": {
    "colab": {
      "provenance": [],
      "authorship_tag": "ABX9TyOmQ4MYqtJ5Ei91JSnPJLrg",
      "include_colab_link": true
    },
    "kernelspec": {
      "name": "python3",
      "display_name": "Python 3"
    },
    "language_info": {
      "name": "python"
    }
  },
  "cells": [
    {
      "cell_type": "markdown",
      "metadata": {
        "id": "view-in-github",
        "colab_type": "text"
      },
      "source": [
        "<a href=\"https://colab.research.google.com/github/EthicalFlipper/MachineLearning/blob/main/MyNeuralNetwork_(Densely_Connected_Network).ipynb\" target=\"_parent\"><img src=\"https://colab.research.google.com/assets/colab-badge.svg\" alt=\"Open In Colab\"/></a>"
      ]
    },
    {
      "cell_type": "code",
      "metadata": {
        "id": "WmUv-yHoyDW7",
        "colab": {
          "base_uri": "https://localhost:8080/",
          "height": 592
        },
        "outputId": "f8e7c7ed-1fe7-4943-cf8d-6c8f81d903ec"
      },
      "source": [
        "# Keras to create the neural network\n",
        "import tensorflow as tf\n",
        "from tensorflow import keras\n",
        "from keras.datasets import mnist\n",
        "from keras import backend as K\n",
        "import numpy as np\n",
        "# Matplotlib to plot info to show our results\n",
        "import matplotlib.pyplot as plt\n",
        "%matplotlib inline\n",
        "\n",
        "img_rows, img_cols = 28, 28 #Variables to help keep track of image size\n",
        "num_classes = 10 #Output classes\n",
        "(train_images, train_labels), (test_images, test_labels) = mnist.load_data() #This line will load data to train the model, and data to test it, as well as the labels to test the data against.\n",
        "(train_images_backup, train_labels_backup), (test_images_backup, test_labels_backup) = mnist.load_data() #Backup data just in case something happens, and its an extra copy of untouched data\n",
        "print(train_images.shape)\n",
        "print(test_images.shape)\n",
        "\n",
        "train_images = train_images.reshape(train_images.shape[0], img_rows, img_cols, 1)\n",
        "test_images = test_images.reshape(test_images.shape[0], img_rows, img_cols, 1)\n",
        "input_shape = (img_rows, img_cols, 1) #Keep track of what shape the data is\n",
        "\n",
        "# helper functions\n",
        "def show_min_max(array, i):\n",
        "  random_image = array[i]\n",
        "  print(random_image.min(), random_image.max())\n",
        "\n",
        "def plot_image(array, i, labels):\n",
        "  plt.imshow(np.squeeze(array[i]))\n",
        "  plt.title(\" Digit \" + str(labels[i]))\n",
        "  plt.xticks([])\n",
        "  plt.yticks([])\n",
        "  plt.show() #Show the image\n",
        "\n",
        "plot_image(train_images, 1000, train_labels) #Call plot_image function and pass it train_images, 100, test_images\n",
        "show_min_max(train_images, 1000) #Same thing as plot_image function\n",
        "\n",
        "train_images[3000:]= 255 - train_images[3000:] #Invert half of the training images\n",
        "\n",
        "train_images = train_images.astype('float32') #Convert data into float32\n",
        "test_images = test_images.astype('float32') #Convert data into float32\n",
        "\n",
        "train_images /= 255 #Divide by 255 so each pixel is stored by value 0-1\n",
        "test_images /= 255 #Divide by 255 so each pixel is stored by value 0-1\n",
        "\n",
        "plot_image(train_images, 1000, train_labels) #Call plot_image function and pass it train_images, 100, test_images\n",
        "show_min_max(train_images, 1000) #Same thing as plot_image function\n",
        "\n",
        "train_labels = keras.utils.to_categorical(train_labels, num_classes) #Employ one-hot encoding on your data. One-hot encoding makes the network view each number independently\n",
        "test_labels = keras.utils.to_categorical(test_labels, num_classes) #Employ one-hot encoding on your data."
      ],
      "execution_count": null,
      "outputs": [
        {
          "output_type": "stream",
          "name": "stdout",
          "text": [
            "(60000, 28, 28)\n",
            "(10000, 28, 28)\n"
          ]
        },
        {
          "output_type": "display_data",
          "data": {
            "text/plain": [
              "<Figure size 432x288 with 1 Axes>"
            ],
            "image/png": "[encoded data removed]"
          },
          "metadata": {}
        },
        {
          "output_type": "stream",
          "name": "stdout",
          "text": [
            "0 255\n"
          ]
        },
        {
          "output_type": "display_data",
          "data": {
            "text/plain": [
              "<Figure size 432x288 with 1 Axes>"
            ],
            "image/png": "[encoded data removed]"
          },
          "metadata": {}
        },
        {
          "output_type": "stream",
          "name": "stdout",
          "text": [
            "0.0 1.0\n"
          ]
        }
      ]
    },
    {
      "cell_type": "code",
      "execution_count": null,
      "metadata": {
        "colab": {
          "base_uri": "https://localhost:8080/"
        },
        "id": "fB8qr07PBkRr",
        "outputId": "8e99c574-1392-47fb-843b-2a53fcdbd7e5"
      },
      "outputs": [
        {
          "output_type": "stream",
          "name": "stdout",
          "text": [
            "Model: \"sequential_1\"\n",
            "_________________________________________________________________\n",
            " Layer (type)                Output Shape              Param #   \n",
            "=================================================================\n",
            " flatten_1 (Flatten)         (None, 784)               0         \n",
            "                                                                 \n",
            " dense_3 (Dense)             (None, 16)                12560     \n",
            "                                                                 \n",
            " dense_4 (Dense)             (None, 10)                170       \n",
            "                                                                 \n",
            " dense_5 (Dense)             (None, 10)                110       \n",
            "                                                                 \n",
            "=================================================================\n",
            "Total params: 12,840\n",
            "Trainable params: 12,840\n",
            "Non-trainable params: 0\n",
            "_________________________________________________________________\n",
            "Epoch 1/15\n",
            "1875/1875 [==============================] - 4s 2ms/step - loss: 1.3823 - accuracy: 0.5292\n",
            "Epoch 2/15\n",
            "1875/1875 [==============================] - 4s 2ms/step - loss: 0.8377 - accuracy: 0.7314\n",
            "Epoch 3/15\n",
            "1875/1875 [==============================] - 4s 2ms/step - loss: 0.7078 - accuracy: 0.7846\n",
            "Epoch 4/15\n",
            "1875/1875 [==============================] - 4s 2ms/step - loss: 0.6325 - accuracy: 0.8130\n",
            "Epoch 5/15\n",
            "1875/1875 [==============================] - 4s 2ms/step - loss: 0.5802 - accuracy: 0.8284\n",
            "Epoch 6/15\n",
            "1875/1875 [==============================] - 4s 2ms/step - loss: 0.5406 - accuracy: 0.8403\n",
            "Epoch 7/15\n",
            "1875/1875 [==============================] - 4s 2ms/step - loss: 0.5169 - accuracy: 0.8473\n",
            "Epoch 8/15\n",
            "1875/1875 [==============================] - 4s 2ms/step - loss: 0.5006 - accuracy: 0.8508\n",
            "Epoch 9/15\n",
            "1875/1875 [==============================] - 4s 2ms/step - loss: 0.4875 - accuracy: 0.8547\n",
            "Epoch 10/15\n",
            "1875/1875 [==============================] - 4s 2ms/step - loss: 0.4818 - accuracy: 0.8558\n",
            "Epoch 11/15\n",
            "1875/1875 [==============================] - 4s 2ms/step - loss: 0.4741 - accuracy: 0.8586\n",
            "Epoch 12/15\n",
            "1875/1875 [==============================] - 4s 2ms/step - loss: 0.4651 - accuracy: 0.8604\n",
            "Epoch 13/15\n",
            "1875/1875 [==============================] - 4s 2ms/step - loss: 0.4543 - accuracy: 0.8635\n",
            "Epoch 14/15\n",
            "1875/1875 [==============================] - 4s 2ms/step - loss: 0.4401 - accuracy: 0.8684\n",
            "Epoch 15/15\n",
            "1875/1875 [==============================] - 4s 2ms/step - loss: 0.4256 - accuracy: 0.8736\n",
            "313/313 - 1s - loss: 0.6094 - accuracy: 0.8635 - 526ms/epoch - 2ms/step\n",
            "\n",
            "Test accuracy: 0.8634999990463257\n"
          ]
        }
      ],
      "source": [
        "from keras.models import Sequential\n",
        "from keras.layers import Dense, Flatten\n",
        "\n",
        "epochs = 15 #Make a variable that keeps track of epochs\n",
        "model = Sequential() #Model object\n",
        "#Flatten layer - will take your prepared image data and flatten it into a long series of numbers representing pixels\n",
        "model.add(Flatten(input_shape = input_shape)) #Add first layer (the flatten layer)\n",
        "#Calculation layers - to perform predictions on the data \n",
        "model.add(Dense(16, activation = 'relu')) #Add a calculation layer (with 16 neurons), activation function is 'relu' in this case\n",
        "model.add(Dense(10, activation = 'relu')) #Challenge: Add another calculation layer (middle layer)\n",
        "#Output layers - shrink the previous layer down to just the number of possible classes\n",
        "model.add(Dense(10, activation = 'softmax'))\n",
        "#Summary\n",
        "model.summary()\n",
        "#Compile\n",
        "#model.compile(loss = 'categorical_crossentropy') #Add loss function to compile function\n",
        "#model.compile(loss = 'categorical_crossentropy',  optimizer = 'adam') #Use the optimizer parameter to set the optimization algorithm\n",
        "model.compile(loss = 'categorical_crossentropy', optimizer = 'adam', metrics = ['accuracy']) #accuracy measures what percentage of the input images the model correctly predicted (similar to loss)\n",
        "#Training\n",
        "model.fit(train_images, train_labels, epochs = epochs, shuffle = True) #Add fit function with arguments train_images, train_labels, epochs = epochs and shuffle (shuffle so the network doesn't rely on the order to learn) \n",
        "#Analyzing Output - how well it does on data it hasn't seen before and doesn't know the labels for\n",
        "test_loss, test_acc = model.evaluate(test_images, test_labels, verbose = 2) #Calculate accuracy and loss of model\n",
        "print('\\nTest accuracy:', test_acc) #Print accuracy \n",
        "#model.save('my_model.h5')"
      ]
    },
    {
      "cell_type": "code",
      "source": [
        "import keras\n",
        "from google.colab import files\n",
        "from keras.preprocessing import image\n",
        "from PIL import Image, ImageChops \n",
        "\n",
        "number_in_picture = int(input(\"Enter the number that will be used for the picture\"))\n",
        "#predict_image function will take a 28x28 pixel image, convert it to the right data for your network, and then use the model to predict what the label for it should be.  Then it will plot the image,\\ print the predicted label, and return the predictions array\n",
        "def predict_image(x):\n",
        "  x = x.astype('float32')\n",
        "  x = x / 255.0\n",
        "\n",
        "  x = np.expand_dims(x, axis=0)\n",
        "\n",
        "  image_predict = model.predict(x, verbose = 0)\n",
        "\n",
        "  plt.imshow(np.squeeze(x))\n",
        "  plt.xticks([])\n",
        "  plt.yticks([])\n",
        "  plt.show()\n",
        "  print(\"Predicted Label: \", np.argmax(image_predict))\n",
        "  return image_predict\n",
        "\n",
        "#plot_value_array function will plot the network's output layer on a graph. It will color the bar for the correct label blue, and if the model predicts the wrong label, it will color it red\n",
        "def plot_value_array(predictions_array, true_label):\n",
        "  plt.grid(False)\n",
        "  plt.xticks(range(10))\n",
        "  plt.yticks([])\n",
        "  thisplot = plt.bar(range(10), predictions_array[0], color=\"#777777\")\n",
        "  plt.ylim([-100, 100])\n",
        "  predicted_label = np.argmax(predictions_array)\n",
        "\n",
        "  thisplot[predicted_label].set_color('red')\n",
        "  thisplot[true_label].set_color('blue')\n",
        "  plt.show()\n",
        "\n",
        "#Load picture into notebook\n",
        "path = '/content/' + \"test3w.jpg\" \n",
        "img = tf.keras.utils.load_img(path, target_size=(28,28), color_mode = \"grayscale\")\n",
        "#Convert image to an array\n",
        "img_arr = tf.keras.utils.img_to_array(img)\n",
        "#Call predict_image function on array image\n",
        "arr = predict_image(img_arr)\n",
        "#Call plot_value_array\n",
        "plot_value_array(arr, number_in_picture)"
      ],
      "metadata": {
        "colab": {
          "base_uri": "https://localhost:8080/",
          "height": 536
        },
        "id": "pIpzTlcMJNJb",
        "outputId": "9b6cb989-c98f-467d-a979-3810b98cedc7"
      },
      "execution_count": null,
      "outputs": [
        {
          "name": "stdout",
          "output_type": "stream",
          "text": [
            "Enter the number that will be used for the picture3\n"
          ]
        },
        {
          "output_type": "display_data",
          "data": {
            "text/plain": [
              "<Figure size 432x288 with 1 Axes>"
            ],
            "image/png": "[encoded data removed]"
          },
          "metadata": {}
        },
        {
          "output_type": "stream",
          "name": "stdout",
          "text": [
            "Predicted Label:  3\n"
          ]
        },
        {
          "output_type": "display_data",
          "data": {
            "text/plain": [
              "<Figure size 432x288 with 1 Axes>"
            ],
            "image/png": "[encoded data removed]"
          },
          "metadata": {
            "needs_background": "light"
          }
        }
      ]
    }
  ]
}