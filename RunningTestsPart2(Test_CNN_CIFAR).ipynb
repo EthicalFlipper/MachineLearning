{
  "nbformat": 4,
  "nbformat_minor": 0,
  "metadata": {
    "colab": {
      "provenance": [],
      "include_colab_link": true
    },
    "kernelspec": {
      "name": "python3",
      "display_name": "Python 3"
    },
    "language_info": {
      "name": "python"
    }
  },
  "cells": [
    {
      "cell_type": "markdown",
      "metadata": {
        "id": "view-in-github",
        "colab_type": "text"
      },
      "source": [
        "<a href=\"https://colab.research.google.com/github/EthicalFlipper/MachineLearning/blob/main/RunningTestsPart2(Test_CNN_CIFAR).ipynb\" target=\"_parent\"><img src=\"https://colab.research.google.com/assets/colab-badge.svg\" alt=\"Open In Colab\"/></a>"
      ]
    },
    {
      "cell_type": "markdown",
      "metadata": {
        "id": "PDyuCShpB_h2"
      },
      "source": [
        "# Exploring the CIFAR Neural Network\n",
        "\n",
        "Use this notebook to run tests with your new cifar data network. Remember, you can add \n",
        "```model.save('cifar_model.h5')``` \n",
        "to save and export your model. "
      ]
    },
    {
      "cell_type": "code",
      "metadata": {
        "colab": {
          "base_uri": "https://localhost:8080/",
          "height": 1000
        },
        "id": "fN3BjYT0vnaY",
        "outputId": "b8d97d30-4143-4a22-8ad5-3ec8151cc4cd"
      },
      "source": [
        "from keras.preprocessing import image\n",
        "from PIL import Image, ImageChops \n",
        "import tensorflow as tf\n",
        "from tensorflow import keras\n",
        "from keras.datasets import cifar10\n",
        "from keras import backend as K\n",
        "import numpy as np\n",
        "import matplotlib.pyplot as plt\n",
        "%matplotlib inline\n",
        "\n",
        "# Load in the original data\n",
        "(train_images, train_labels), (test_images, test_labels) = cifar10.load_data()\n",
        "(train_images_backup, train_labels_backup), (test_images_backup, test_labels_backup) = cifar10.load_data() \n",
        "\n",
        "print(\"CIFAR10 data loaded\")\n",
        "\n",
        "label_names = ['airplane', 'automobile', 'bird', 'cat', 'deer', 'dog', 'frog', 'horse', 'ship', 'truck'] \n",
        "train_labels_backup = [item for sublist in train_labels_backup for item in sublist]\n",
        "test_labels_backup = [item for sublist in test_labels_backup for item in sublist]\n",
        "\n",
        "# This will work for the models if you download them from the links above. \n",
        "# If you want to export your own models, use the name of them here instead. \n",
        "model_1 = tf.keras.models.load_model('cifar_model.h5')\n",
        "# model_2 = tf.keras.models.load_model('cnn_model.h5')\n",
        "\n",
        "def plot_image(array, i, labels):\n",
        "  plt.imshow(np.squeeze(array[i]))\n",
        "  plt.title(\" This is \" + label_names[labels[i]])\n",
        "  plt.xticks([])\n",
        "  plt.yticks([])\n",
        "  plt.show()\n",
        "\n",
        "def predict_image(model, x):\n",
        "  x = x.astype('float32')\n",
        "  x = x / 255.0\n",
        "\n",
        "  x = np.expand_dims(x, axis=0)\n",
        "\n",
        "  image_predict = model.predict(x, verbose=0)\n",
        "  print(\"Predicted Label: \", label_names[np.argmax(image_predict)])\n",
        "\n",
        "  plt.imshow(np.squeeze(x))\n",
        "  plt.xticks([])\n",
        "  plt.yticks([])\n",
        "  plt.show()\n",
        " \n",
        "  # uncomment this like if you want to see the array of predictions\n",
        "  # print(image_predict)\n",
        "  return image_predict\n",
        "\n",
        "\n",
        "def plot_value_array(predictions_array, true_label, h):\n",
        "  plt.grid(False)\n",
        "  plt.xticks(range(10))\n",
        "  plt.yticks([])\n",
        "  thisplot = plt.bar(range(10), predictions_array[0], color=\"#777777\")\n",
        "  plt.ylim([(-1*h), h])\n",
        "  predicted_label = np.argmax(predictions_array)\n",
        "\n",
        "  thisplot[predicted_label].set_color('red')\n",
        "  thisplot[true_label].set_color('blue')\n",
        "  plt.show()\n",
        "\n",
        "\n",
        "# Code to load an image called 'test3w.jpg'\n",
        "# To use a different image upload it and change the name here.\n",
        "path = \"test_ship.png\"\n",
        "img = image.load_img(path, target_size=(32,32), color_mode = \"rgb\")\n",
        "x = image.img_to_array(img)\n",
        "true_label = 8\n",
        "\n",
        "# Predicting the label using model_1.\n",
        "p_arr = predict_image(model_1, x)\n",
        "# This will plot the values on a graph. The last argument is the height of the y-axis.\n",
        "plot_value_array(p_arr, true_label, 1)\n",
        "\n",
        "# Displaying the 100th image from the original dataset\n",
        "plot_image(test_images, 37, test_labels_backup)\n",
        "\n",
        "# Predicting the label using model_1 on an image from test_images\n",
        "img_loc = 37\n",
        "img = test_images[img_loc]\n",
        "x = image.img_to_array(img)\n",
        "p_arr = predict_image(model_1, x)\n",
        "true_label = test_labels_backup[img_loc]\n",
        "print(true_label)\n",
        "plot_value_array(p_arr, true_label, 1)\n",
        "\n",
        "# Create an array of random numbers from 0 to 255 of size (32, 32, 3)\n",
        "x = np.random.randint(0, 255, (32, 32, 3) )\n"
      ],
      "execution_count": null,
      "outputs": [
        {
          "output_type": "stream",
          "name": "stdout",
          "text": [
            "CIFAR10 data loaded\n",
            "Predicted Label:  ship\n"
          ]
        },
        {
          "output_type": "display_data",
          "data": {
            "text/plain": [
              "<Figure size 432x288 with 1 Axes>"
            ],
            "image/png": "[encoded data removed]"
          },
          "metadata": {}
        },
        {
          "output_type": "display_data",
          "data": {
            "text/plain": [
              "<Figure size 432x288 with 1 Axes>"
            ],
            "image/png": "[encoded data removed]"
          },
          "metadata": {
            "needs_background": "light"
          }
        },
        {
          "output_type": "display_data",
          "data": {
            "text/plain": [
              "<Figure size 432x288 with 1 Axes>"
            ],
            "image/png": "[encoded data removed]"
          },
          "metadata": {}
        },
        {
          "output_type": "stream",
          "name": "stdout",
          "text": [
            "Predicted Label:  automobile\n"
          ]
        },
        {
          "output_type": "display_data",
          "data": {
            "text/plain": [
              "<Figure size 432x288 with 1 Axes>"
            ],
            "image/png": "[encoded data removed]"
          },
          "metadata": {}
        },
        {
          "output_type": "stream",
          "name": "stdout",
          "text": [
            "1\n"
          ]
        },
        {
          "output_type": "display_data",
          "data": {
            "text/plain": [
              "<Figure size 432x288 with 1 Axes>"
            ],
            "image/png": "[encoded data removed]"
          },
          "metadata": {
            "needs_background": "light"
          }
        }
      ]
    },
    {
      "cell_type": "markdown",
      "metadata": {
        "id": "-ET51_lT_LWS"
      },
      "source": [
        "# Test 1\n",
        "\n",
        "Run a square image of a frog, or an airplane or any of the other classes through your network. What is the prediction?"
      ]
    },
    {
      "cell_type": "code",
      "metadata": {
        "id": "YobPpqiJA09o"
      },
      "source": [
        "# Write code for test 1 here"
      ],
      "execution_count": null,
      "outputs": []
    },
    {
      "cell_type": "markdown",
      "metadata": {
        "id": "aGtoXoMwA1N_"
      },
      "source": [
        "# Test 2\n",
        "\n",
        "Run a randomly generated image through the network. See if you can notice any bias with what it predicts. "
      ]
    },
    {
      "cell_type": "code",
      "metadata": {
        "id": "pZPrh77pBrAp"
      },
      "source": [
        "# Write code for test 2 here"
      ],
      "execution_count": null,
      "outputs": []
    },
    {
      "cell_type": "markdown",
      "metadata": {
        "id": "5G70WlNCBrWT"
      },
      "source": [
        "# Test 3\n",
        "\n",
        "Test the network with some random images from the test_images set. See what it does with these. "
      ]
    },
    {
      "cell_type": "code",
      "metadata": {
        "id": "bsE1qn-mB3fp"
      },
      "source": [
        "# Write code for test 3 here"
      ],
      "execution_count": null,
      "outputs": []
    }
  ]
}