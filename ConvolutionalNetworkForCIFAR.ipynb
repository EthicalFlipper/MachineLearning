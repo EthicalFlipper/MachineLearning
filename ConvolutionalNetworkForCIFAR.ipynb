{
  "nbformat": 4,
  "nbformat_minor": 0,
  "metadata": {
    "colab": {
      "provenance": [],
      "authorship_tag": "ABX9TyOyyq3hfuJuqIQbFIYVUkmN",
      "include_colab_link": true
    },
    "kernelspec": {
      "name": "python3",
      "display_name": "Python 3"
    },
    "language_info": {
      "name": "python"
    }
  },
  "cells": [
    {
      "cell_type": "markdown",
      "metadata": {
        "id": "view-in-github",
        "colab_type": "text"
      },
      "source": [
        "<a href=\"https://colab.research.google.com/github/EthicalFlipper/MachineLearning/blob/main/ConvolutionalNetworkForCIFAR.ipynb\" target=\"_parent\"><img src=\"https://colab.research.google.com/assets/colab-badge.svg\" alt=\"Open In Colab\"/></a>"
      ]
    },
    {
      "cell_type": "code",
      "execution_count": null,
      "metadata": {
        "colab": {
          "base_uri": "https://localhost:8080/",
          "height": 588
        },
        "id": "mKlNGqpiXyeI",
        "outputId": "684255a1-98fb-46bd-89f0-e6225cc5eb33"
      },
      "outputs": [
        {
          "output_type": "display_data",
          "data": {
            "text/plain": [
              "<Figure size 432x288 with 1 Axes>"
            ],
            "image/png": "[encoded data removed]"
          },
          "metadata": {}
        },
        {
          "output_type": "stream",
          "name": "stdout",
          "text": [
            "min max value in image 30 242\n",
            "(50000, 32, 32, 3)\n",
            "(10000, 32, 32, 3)\n"
          ]
        },
        {
          "output_type": "display_data",
          "data": {
            "text/plain": [
              "<Figure size 432x288 with 1 Axes>"
            ],
            "image/png": "[encoded data removed]"
          },
          "metadata": {}
        },
        {
          "output_type": "stream",
          "name": "stdout",
          "text": [
            "min max value in image 0.11764706 0.9490196\n"
          ]
        }
      ],
      "source": [
        "#Keras to create the neural network\n",
        "import tensorflow as tf\n",
        "from tensorflow import keras\n",
        "from keras.datasets import cifar10\n",
        "from keras import backend as K\n",
        "import numpy as np\n",
        "#Matplotlib to plot info to show our results\n",
        "import matplotlib.pyplot as plt\n",
        "%matplotlib inline\n",
        "\n",
        "img_rows, img_cols = 32, 32 #Variables to help keep track of image size (32 by 32 pixels)\n",
        "num_classes = 10 #Output classes\n",
        "input_shape = (img_rows, img_cols, 3) #Keep track of what shape the data is\n",
        "\n",
        "(train_images, train_labels), (test_images, test_labels) = cifar10.load_data() #This line will load data to train the model, and data to test it, as well as the labels to test the data\n",
        "(train_images_backup, train_labels_backup), (test_images_backup, test_labels_backup) = cifar10.load_data() #This line will load data to train the model, and data to test it, as well as the labels to test the data (backup)\n",
        "\n",
        "label_names= ['airplane', 'automobile', 'bird', 'cat', 'deer', 'dog', 'frog', 'horse', 'ship', 'truck'] #Array of labels\n",
        "train_labels_backup = [item for sublist in train_labels_backup for item in sublist] #Convert the label arrays\n",
        "test_labels_backup = [item for sublist in test_labels_backup for item in sublist] #Convert the label arrays\n",
        "\n",
        "#Helper functions\n",
        "def show_min_max(array, i): #Array = train_images, i = 100\n",
        "  random_image = array[i] #Pick random image out of 100\n",
        "  print(\"min max value in image\", random_image.min(), random_image.max())\n",
        "\n",
        "def plot_image(array, i, labels):\n",
        "  plt.imshow(np.squeeze(array[i]))\n",
        "  plt.title(str(label_names[labels[i]]))\n",
        "  plt.xticks([])\n",
        "  plt.yticks([])\n",
        "  plt.show() #Show the image\n",
        "\n",
        "plot_image(train_images, 100, train_labels_backup) #Call plot_image function and pass it train_images, 100, test_images\n",
        "show_min_max(train_images, 100) #Print out the 100th image\n",
        "\n",
        "# Print out the shape of the train and test images to make sure it matches the expectations\n",
        "print(train_images.shape) \n",
        "print(test_images.shape)\n",
        "\n",
        "train_images = train_images.astype('float32') #Convert data into float32\n",
        "test_images = test_images.astype('float32') #Convert data into float32\n",
        "\n",
        "train_images /= 255 #Divide by 255 so each pixel is stored by value 0-1\n",
        "test_images /= 255 #Divide by 255 so each pixel is stored by value 0-1\n",
        "\n",
        "#Print out the image and min/max values again to make sure it is normalized\n",
        "plot_image(train_images, 100, train_labels_backup)\n",
        "show_min_max(train_images, 100)\n",
        "\n",
        "train_labels = keras.utils.to_categorical(train_labels, num_classes) #Employ one-hot encoding on your data. One-hot encoding makes the network view each number independently\n",
        "test_labels = keras.utils.to_categorical(test_labels, num_classes) #Employ one-hot encoding on your data."
      ]
    },
    {
      "cell_type": "code",
      "source": [
        "from keras.models import Sequential\n",
        "from keras.layers import Dense, Flatten, Conv2D, MaxPooling2D, Dropout, BatchNormalization\n",
        "#Number of epochs\n",
        "epochs = 20\n",
        "#Batch size\n",
        "batch_size = 64\n",
        "#Model\n",
        "model = Sequential()\n",
        "\n",
        "#Convolutional layer with 32, 3x3 pixel filters\n",
        "model.add(Conv2D(filters = 32, kernel_size = (3, 3), activation = 'relu', input_shape = input_shape))\n",
        "#Convolutional layer with 64 filters\n",
        "model.add(Conv2D(filters = 64, kernel_size = (3, 3), activation = 'relu'))\n",
        "#Pooling layer - condense the information the network has learned so far\n",
        "model.add(MaxPooling2D(pool_size = (2, 2)))\n",
        "#Dropout layer - so network doesn't get too dependent or specific\n",
        "model.add(Dropout(rate = 0.2))\n",
        "#Batch normalization layer - Batch normalization helps to keep each layer on the right track and working towards the desired goal\n",
        "model.add(BatchNormalization())\n",
        "\n",
        "#Convolutional Layer\n",
        "model.add(Conv2D(filters = 64, kernel_size = (3, 3), activation = 'relu'))\n",
        "#Pooling Layer\n",
        "model.add(MaxPooling2D(pool_size = (1, 1)))\n",
        "#Dropout Layer\n",
        "model.add(Dropout(rate = 0.3))\n",
        "#Batch Normalization layer\n",
        "model.add(BatchNormalization())\n",
        "\n",
        "#Convolutional Layer\n",
        "model.add(Conv2D(filters = 128, kernel_size = (3, 3), activation = 'relu'))\n",
        "#Final Convolutional Layer\n",
        "model.add(Conv2D(filters = 64, kernel_size = (3, 3), activation = 'relu'))\n",
        "#Final Pooling Layer\n",
        "model.add(MaxPooling2D(pool_size = (1, 1)))\n",
        "#Final Dropout Layer\n",
        "model.add(Dropout(rate = 0.3))\n",
        "#Final Batch Normalization Layer\n",
        "model.add(BatchNormalization())\n",
        "\n",
        "#Flatten Layer - start to prepare the network to produce output\n",
        "model.add(Flatten())\n",
        "#Dense Layer\n",
        "model.add(Dense(units = 128, activation = 'relu'))\n",
        "#Output Layer\n",
        "model.add(Dense(units = num_classes, activation = 'softmax'))\n",
        "#Summary\n",
        "model.summary()\n",
        "#Compile\n",
        "model.compile(loss = keras.losses.categorical_crossentropy, optimizer = 'adam', metrics = ['accuracy'])\n",
        "#Fit\n",
        "model.fit(train_images, train_labels, batch_size = batch_size, epochs = epochs, validation_data = (test_images, test_labels), shuffle = True)\n",
        "#Evaluate\n",
        "scores = model.evaluate(test_images, test_labels, verbose = 0) \n",
        "print('Test accuracy:', scores[1])\n",
        "#Save\n",
        "model.save('cifar_model.h5')"
      ],
      "metadata": {
        "colab": {
          "base_uri": "https://localhost:8080/"
        },
        "id": "1fqp4Jpzednw",
        "outputId": "132cef19-ca9e-4b4f-fce9-79f124b382b5"
      },
      "execution_count": null,
      "outputs": [
        {
          "output_type": "stream",
          "name": "stdout",
          "text": [
            "Model: \"sequential_2\"\n",
            "_________________________________________________________________\n",
            " Layer (type)                Output Shape              Param #   \n",
            "=================================================================\n",
            " conv2d_10 (Conv2D)          (None, 30, 30, 32)        896       \n",
            "                                                                 \n",
            " conv2d_11 (Conv2D)          (None, 28, 28, 64)        18496     \n",
            "                                                                 \n",
            " max_pooling2d_6 (MaxPooling  (None, 14, 14, 64)       0         \n",
            " 2D)                                                             \n",
            "                                                                 \n",
            " dropout_6 (Dropout)         (None, 14, 14, 64)        0         \n",
            "                                                                 \n",
            " batch_normalization_6 (Batc  (None, 14, 14, 64)       256       \n",
            " hNormalization)                                                 \n",
            "                                                                 \n",
            " conv2d_12 (Conv2D)          (None, 12, 12, 64)        36928     \n",
            "                                                                 \n",
            " max_pooling2d_7 (MaxPooling  (None, 12, 12, 64)       0         \n",
            " 2D)                                                             \n",
            "                                                                 \n",
            " dropout_7 (Dropout)         (None, 12, 12, 64)        0         \n",
            "                                                                 \n",
            " batch_normalization_7 (Batc  (None, 12, 12, 64)       256       \n",
            " hNormalization)                                                 \n",
            "                                                                 \n",
            " conv2d_13 (Conv2D)          (None, 10, 10, 128)       73856     \n",
            "                                                                 \n",
            " conv2d_14 (Conv2D)          (None, 8, 8, 64)          73792     \n",
            "                                                                 \n",
            " max_pooling2d_8 (MaxPooling  (None, 8, 8, 64)         0         \n",
            " 2D)                                                             \n",
            "                                                                 \n",
            " dropout_8 (Dropout)         (None, 8, 8, 64)          0         \n",
            "                                                                 \n",
            " batch_normalization_8 (Batc  (None, 8, 8, 64)         256       \n",
            " hNormalization)                                                 \n",
            "                                                                 \n",
            " flatten_2 (Flatten)         (None, 4096)              0         \n",
            "                                                                 \n",
            " dense_4 (Dense)             (None, 128)               524416    \n",
            "                                                                 \n",
            " dense_5 (Dense)             (None, 10)                1290      \n",
            "                                                                 \n",
            "=================================================================\n",
            "Total params: 730,442\n",
            "Trainable params: 730,058\n",
            "Non-trainable params: 384\n",
            "_________________________________________________________________\n",
            "Epoch 1/20\n",
            "782/782 [==============================] - 354s 452ms/step - loss: 1.5557 - accuracy: 0.4504 - val_loss: 1.3658 - val_accuracy: 0.5209\n",
            "Epoch 2/20\n",
            "782/782 [==============================] - 338s 432ms/step - loss: 1.1092 - accuracy: 0.6035 - val_loss: 1.1421 - val_accuracy: 0.5998\n",
            "Epoch 3/20\n",
            "782/782 [==============================] - 342s 437ms/step - loss: 0.9233 - accuracy: 0.6726 - val_loss: 1.0119 - val_accuracy: 0.6570\n",
            "Epoch 4/20\n",
            "782/782 [==============================] - 336s 430ms/step - loss: 0.8023 - accuracy: 0.7174 - val_loss: 0.8723 - val_accuracy: 0.7012\n",
            "Epoch 5/20\n",
            "782/782 [==============================] - 336s 430ms/step - loss: 0.7264 - accuracy: 0.7440 - val_loss: 0.9582 - val_accuracy: 0.6816\n",
            "Epoch 6/20\n",
            "782/782 [==============================] - 336s 429ms/step - loss: 0.6651 - accuracy: 0.7652 - val_loss: 0.8942 - val_accuracy: 0.6880\n",
            "Epoch 7/20\n",
            "782/782 [==============================] - 337s 431ms/step - loss: 0.6188 - accuracy: 0.7788 - val_loss: 0.7580 - val_accuracy: 0.7425\n",
            "Epoch 8/20\n",
            "782/782 [==============================] - 336s 429ms/step - loss: 0.5742 - accuracy: 0.7964 - val_loss: 0.8127 - val_accuracy: 0.7299\n",
            "Epoch 9/20\n",
            "782/782 [==============================] - 335s 428ms/step - loss: 0.5399 - accuracy: 0.8090 - val_loss: 0.7138 - val_accuracy: 0.7692\n",
            "Epoch 10/20\n",
            "782/782 [==============================] - 337s 431ms/step - loss: 0.4983 - accuracy: 0.8231 - val_loss: 0.7105 - val_accuracy: 0.7626\n",
            "Epoch 11/20\n",
            "782/782 [==============================] - 336s 430ms/step - loss: 0.4645 - accuracy: 0.8345 - val_loss: 0.7264 - val_accuracy: 0.7629\n",
            "Epoch 12/20\n",
            "782/782 [==============================] - 335s 428ms/step - loss: 0.4368 - accuracy: 0.8444 - val_loss: 0.7734 - val_accuracy: 0.7587\n",
            "Epoch 13/20\n",
            "782/782 [==============================] - 353s 452ms/step - loss: 0.4157 - accuracy: 0.8527 - val_loss: 1.4576 - val_accuracy: 0.7280\n",
            "Epoch 14/20\n",
            "782/782 [==============================] - 347s 444ms/step - loss: 0.3909 - accuracy: 0.8613 - val_loss: 0.7780 - val_accuracy: 0.7512\n",
            "Epoch 15/20\n",
            "782/782 [==============================] - 366s 468ms/step - loss: 0.3694 - accuracy: 0.8667 - val_loss: 0.7307 - val_accuracy: 0.7825\n",
            "Epoch 16/20\n",
            "782/782 [==============================] - 366s 469ms/step - loss: 0.3477 - accuracy: 0.8766 - val_loss: 0.7979 - val_accuracy: 0.7517\n",
            "Epoch 17/20\n",
            "782/782 [==============================] - 366s 468ms/step - loss: 0.3359 - accuracy: 0.8793 - val_loss: 0.7869 - val_accuracy: 0.7700\n",
            "Epoch 18/20\n",
            "782/782 [==============================] - 360s 460ms/step - loss: 0.3152 - accuracy: 0.8878 - val_loss: 0.7219 - val_accuracy: 0.7863\n",
            "Epoch 19/20\n",
            "782/782 [==============================] - 336s 430ms/step - loss: 0.3057 - accuracy: 0.8908 - val_loss: 0.8105 - val_accuracy: 0.7702\n",
            "Epoch 20/20\n",
            "782/782 [==============================] - 337s 431ms/step - loss: 0.2924 - accuracy: 0.8955 - val_loss: 0.7706 - val_accuracy: 0.7878\n",
            "Test accuracy: 0.7878000140190125\n"
          ]
        }
      ]
    }
  ]
}